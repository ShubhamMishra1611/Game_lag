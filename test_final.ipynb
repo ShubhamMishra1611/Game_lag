{
 "cells": [
  {
   "cell_type": "code",
   "execution_count": 1,
   "metadata": {},
   "outputs": [],
   "source": [
    "from main import game_lag                                         # Importing the game_lag class function from main.py"
   ]
  },
  {
   "cell_type": "code",
   "execution_count": 2,
   "metadata": {},
   "outputs": [
    {
     "name": "stdout",
     "output_type": "stream",
     "text": [
      "Initializing...\n",
      "Getting frames...\n",
      "Total frames:  5535\n",
      "Processing...\n",
      "Action performed at frame:  423\n",
      "Latency:  0.05416666666666667 ms\n",
      "Action performed at frame:  684\n",
      "Latency:  0.03333333333333333 ms\n",
      "Action performed at frame:  958\n",
      "Latency:  0.0 ms\n",
      "Action performed at frame:  1227\n",
      "Latency:  0.3541666666666667 ms\n",
      "Action performed at frame:  1496\n",
      "Latency:  0.0 ms\n",
      "Action performed at frame:  1766\n",
      "Latency:  0.1125 ms\n",
      "Action performed at frame:  2046\n",
      "Latency:  0.0 ms\n",
      "Action performed at frame:  2324\n",
      "Latency:  0.0 ms\n",
      "Action performed at frame:  2596\n",
      "Latency:  0.0 ms\n",
      "Action performed at frame:  2875\n",
      "Latency:  0.1125 ms\n",
      "Action performed at frame:  3144\n",
      "Latency:  0.1125 ms\n",
      "Action performed at frame:  3418\n",
      "Latency:  0.35833333333333334 ms\n",
      "Action performed at frame:  3685\n",
      "Latency:  0.35833333333333334 ms\n",
      "Action performed at frame:  3953\n",
      "Latency:  0.0 ms\n",
      "Action performed at frame:  4233\n",
      "Latency:  0.0 ms\n",
      "Action performed at frame:  4490\n",
      "Latency:  0.11666666666666667 ms\n",
      "Action performed at frame:  4774\n",
      "Latency:  0.11666666666666667 ms\n",
      "Action performed at frame:  5054\n",
      "Latency:  1.4625 ms\n",
      "Average latency:  79.88888888888889 ms\n"
     ]
    },
    {
     "data": {
      "text/plain": [
       "<main.game_lag at 0x1d3a6ed0ee0>"
      ]
     },
     "execution_count": 2,
     "metadata": {},
     "output_type": "execute_result"
    }
   ],
   "source": [
    "game_lag(\"videos\\ADS HG.MP4\",240)                                  # initiating the game_lag with the video file and the frame rate"
   ]
  },
  {
   "cell_type": "code",
   "execution_count": 13,
   "metadata": {},
   "outputs": [
    {
     "name": "stdout",
     "output_type": "stream",
     "text": [
      "Initializing...\n",
      "Getting frames...\n",
      "Total frames:  7004\n",
      "Processing...\n",
      "Action performed at frame:  391\n",
      "Latency:  0.1 ms\n",
      "Action performed at frame:  758\n",
      "Latency:  0.1 ms\n",
      "Action performed at frame:  1014\n",
      "Latency:  0.07916666666666666 ms\n",
      "Action performed at frame:  1248\n",
      "Latency:  0.09583333333333334 ms\n",
      "Action performed at frame:  1515\n",
      "Latency:  0.09583333333333334 ms\n",
      "Action performed at frame:  1747\n",
      "Latency:  0.09166666666666666 ms\n",
      "Action performed at frame:  1996\n",
      "Latency:  0.06666666666666667 ms\n",
      "Action performed at frame:  2307\n",
      "Latency:  0.058333333333333334 ms\n",
      "Action performed at frame:  2590\n",
      "Latency:  0.029166666666666667 ms\n",
      "Action performed at frame:  2880\n",
      "Latency:  0.058333333333333334 ms\n",
      "Action performed at frame:  3173\n",
      "Latency:  0.058333333333333334 ms\n",
      "Action performed at frame:  3448\n",
      "Latency:  0.075 ms\n",
      "Action performed at frame:  3708\n",
      "Latency:  0.075 ms\n",
      "Action performed at frame:  3999\n",
      "Latency:  0.08333333333333333 ms\n",
      "Action performed at frame:  4240\n",
      "Latency:  0.0875 ms\n",
      "Action performed at frame:  4480\n",
      "Latency:  0.10833333333333334 ms\n",
      "Action performed at frame:  4765\n",
      "Latency:  0.10833333333333334 ms\n",
      "Action performed at frame:  5020\n",
      "Latency:  0.1 ms\n",
      "Action performed at frame:  5265\n",
      "Latency:  0.10416666666666667 ms\n",
      "Action performed at frame:  5512\n",
      "Latency:  0.10416666666666667 ms\n",
      "Action performed at frame:  5751\n",
      "Latency:  0.09583333333333334 ms\n",
      "Action performed at frame:  5962\n",
      "Latency:  0.09583333333333334 ms\n",
      "Action performed at frame:  6205\n",
      "Latency:  0.09583333333333334 ms\n",
      "Action performed at frame:  6410\n",
      "Latency:  0.08333333333333333 ms\n",
      "Action performed at frame:  6625\n",
      "Latency:  0.0625 ms\n",
      "Average latency:  62.444250871080136 ms\n"
     ]
    },
    {
     "data": {
      "text/plain": [
       "<main.game_lag at 0x1d3b32800a0>"
      ]
     },
     "execution_count": 13,
     "metadata": {},
     "output_type": "execute_result"
    }
   ],
   "source": [
    "game_lag(\"videos\\Camera Right.MP4\",240)"
   ]
  },
  {
   "cell_type": "code",
   "execution_count": 4,
   "metadata": {},
   "outputs": [
    {
     "name": "stdout",
     "output_type": "stream",
     "text": [
      "Initializing...\n",
      "Getting frames...\n",
      "Total frames:  11526\n",
      "Processing...\n",
      "Action performed at frame:  502\n",
      "Latency:  0.24583333333333332 ms\n",
      "Action performed at frame:  875\n",
      "Latency:  0.21666666666666667 ms\n",
      "Action performed at frame:  1321\n",
      "Latency:  0.2375 ms\n",
      "Action performed at frame:  1629\n",
      "Latency:  0.2375 ms\n",
      "Action performed at frame:  2084\n",
      "Latency:  0.25833333333333336 ms\n",
      "Action performed at frame:  2449\n",
      "Latency:  0.25 ms\n",
      "Action performed at frame:  2871\n",
      "Latency:  0.25 ms\n",
      "Action performed at frame:  3215\n",
      "Latency:  0.24583333333333332 ms\n",
      "Action performed at frame:  3618\n",
      "Latency:  0.2625 ms\n",
      "Action performed at frame:  3994\n",
      "Latency:  0.2375 ms\n",
      "Action performed at frame:  4406\n",
      "Latency:  0.2375 ms\n",
      "Action performed at frame:  4752\n",
      "Latency:  0.22916666666666666 ms\n",
      "Action performed at frame:  5119\n",
      "Latency:  0.22916666666666666 ms\n",
      "Action performed at frame:  5496\n",
      "Latency:  0.26666666666666666 ms\n",
      "Action performed at frame:  5881\n",
      "Latency:  0.26666666666666666 ms\n",
      "Action performed at frame:  6272\n",
      "Latency:  0.275 ms\n",
      "Action performed at frame:  6645\n",
      "Latency:  0.275 ms\n",
      "Action performed at frame:  7091\n",
      "Latency:  0.25 ms\n",
      "Action performed at frame:  7463\n",
      "Latency:  0.25 ms\n",
      "Action performed at frame:  7824\n",
      "Latency:  0.22083333333333333 ms\n",
      "Action performed at frame:  8058\n",
      "Latency:  0.20416666666666666 ms\n",
      "Action performed at frame:  8301\n",
      "Latency:  0.19583333333333333 ms\n",
      "Action performed at frame:  8526\n",
      "Latency:  0.19583333333333333 ms\n",
      "Action performed at frame:  8743\n",
      "Latency:  0.1875 ms\n",
      "Action performed at frame:  8988\n",
      "Latency:  0.1875 ms\n",
      "Action performed at frame:  9239\n",
      "Latency:  0.2 ms\n",
      "Action performed at frame:  9472\n",
      "Latency:  0.2 ms\n",
      "Action performed at frame:  9689\n",
      "Latency:  0.20833333333333334 ms\n",
      "Action performed at frame:  9911\n",
      "Latency:  0.20833333333333334 ms\n",
      "Action performed at frame:  10122\n",
      "Latency:  0.20833333333333334 ms\n",
      "Action performed at frame:  10383\n",
      "Latency:  0.2 ms\n",
      "Action performed at frame:  10607\n",
      "Latency:  0.21666666666666667 ms\n",
      "Action performed at frame:  10851\n",
      "Latency:  0.21666666666666667 ms\n",
      "Action performed at frame:  11076\n",
      "Latency:  0.2125 ms\n",
      "Average latency:  60.62987012987013 ms\n"
     ]
    },
    {
     "data": {
      "text/plain": [
       "<main.game_lag at 0x1d3a6ed1360>"
      ]
     },
     "execution_count": 4,
     "metadata": {},
     "output_type": "execute_result"
    }
   ],
   "source": [
    "game_lag(\"videos\\Crouch.MP4\",240)"
   ]
  },
  {
   "cell_type": "code",
   "execution_count": 5,
   "metadata": {},
   "outputs": [
    {
     "name": "stdout",
     "output_type": "stream",
     "text": [
      "Initializing...\n",
      "Getting frames...\n",
      "Total frames:  8712\n",
      "Processing...\n",
      "Action performed at frame:  484\n",
      "Latency:  0.1125 ms\n",
      "Action performed at frame:  835\n",
      "Latency:  0.10416666666666667 ms\n",
      "Action performed at frame:  1926\n",
      "Latency:  0.13333333333333333 ms\n",
      "Action performed at frame:  2085\n",
      "Latency:  0.13333333333333333 ms\n",
      "Action performed at frame:  2357\n",
      "Latency:  0.0 ms\n",
      "Action performed at frame:  2952\n",
      "Latency:  0.10833333333333334 ms\n",
      "Action performed at frame:  3366\n",
      "Latency:  0.10833333333333334 ms\n",
      "Action performed at frame:  3746\n",
      "Latency:  0.10833333333333334 ms\n",
      "Action performed at frame:  4123\n",
      "Latency:  0.1 ms\n",
      "Action performed at frame:  4499\n",
      "Latency:  0.10416666666666667 ms\n",
      "Action performed at frame:  4841\n",
      "Latency:  0.10416666666666667 ms\n",
      "Action performed at frame:  5214\n",
      "Latency:  0.10416666666666667 ms\n",
      "Action performed at frame:  5571\n",
      "Latency:  0.09583333333333334 ms\n",
      "Action performed at frame:  5927\n",
      "Latency:  0.10416666666666667 ms\n",
      "Action performed at frame:  6266\n",
      "Latency:  0.10416666666666667 ms\n",
      "Action performed at frame:  6616\n",
      "Latency:  0.10416666666666667 ms\n",
      "Action performed at frame:  6953\n",
      "Latency:  0.1125 ms\n",
      "Action performed at frame:  7243\n",
      "Latency:  0.1125 ms\n",
      "Action performed at frame:  7567\n",
      "Latency:  0.1125 ms\n",
      "Action performed at frame:  7888\n",
      "Latency:  0.11666666666666667 ms\n",
      "Action performed at frame:  8242\n",
      "Latency:  0.11666666666666667 ms\n",
      "Average latency:  56.46938775510204 ms\n"
     ]
    },
    {
     "data": {
      "text/plain": [
       "<main.game_lag at 0x1d3a6ed12a0>"
      ]
     },
     "execution_count": 5,
     "metadata": {},
     "output_type": "execute_result"
    }
   ],
   "source": [
    "game_lag(\"videos\\Melee.MP4\",240)"
   ]
  },
  {
   "cell_type": "code",
   "execution_count": 6,
   "metadata": {},
   "outputs": [
    {
     "name": "stdout",
     "output_type": "stream",
     "text": [
      "Initializing...\n",
      "Getting frames...\n",
      "Total frames:  11081\n",
      "Processing...\n",
      "Action performed at frame:  402\n",
      "Latency:  0.0 ms\n",
      "Action performed at frame:  829\n",
      "Latency:  0.0 ms\n",
      "Action performed at frame:  1271\n",
      "Latency:  0.0 ms\n",
      "Action performed at frame:  1625\n",
      "Latency:  0.0 ms\n",
      "Action performed at frame:  1978\n",
      "Latency:  0.0 ms\n",
      "Action performed at frame:  2363\n",
      "Latency:  0.0 ms\n",
      "Action performed at frame:  2709\n",
      "Latency:  0.0 ms\n",
      "Action performed at frame:  3059\n",
      "Latency:  0.0 ms\n",
      "Action performed at frame:  3405\n",
      "Latency:  0.0 ms\n",
      "Action performed at frame:  3747\n",
      "Latency:  0.0 ms\n",
      "Action performed at frame:  4070\n",
      "Latency:  0.0 ms\n",
      "Action performed at frame:  4408\n",
      "Latency:  0.0 ms\n",
      "Action performed at frame:  4757\n",
      "Latency:  0.0 ms\n",
      "Action performed at frame:  5086\n",
      "Latency:  0.0 ms\n",
      "Action performed at frame:  5411\n",
      "Latency:  0.0 ms\n",
      "Action performed at frame:  5728\n",
      "Latency:  0.0 ms\n",
      "Action performed at frame:  6045\n",
      "Latency:  0.0 ms\n",
      "Action performed at frame:  6373\n",
      "Latency:  0.0 ms\n",
      "Action performed at frame:  6720\n",
      "Latency:  0.0 ms\n",
      "Action performed at frame:  7049\n",
      "Latency:  0.0 ms\n",
      "Action performed at frame:  7396\n",
      "Latency:  0.0 ms\n",
      "Action performed at frame:  7760\n",
      "Latency:  0.0 ms\n",
      "Action performed at frame:  8120\n",
      "Latency:  0.0 ms\n",
      "Action performed at frame:  8532\n",
      "Latency:  0.0 ms\n",
      "Action performed at frame:  8892\n",
      "Latency:  0.0 ms\n",
      "Action performed at frame:  9258\n",
      "Latency:  0.0 ms\n",
      "Action performed at frame:  9596\n",
      "Latency:  0.0 ms\n",
      "Action performed at frame:  9952\n",
      "Latency:  0.0 ms\n",
      "Action performed at frame:  10279\n",
      "Latency:  0.0 ms\n",
      "Action performed at frame:  10645\n",
      "Latency:  0.0 ms\n",
      "Average latency:  69.70703125 ms\n"
     ]
    },
    {
     "data": {
      "text/plain": [
       "<main.game_lag at 0x1d3a6ed1450>"
      ]
     },
     "execution_count": 6,
     "metadata": {},
     "output_type": "execute_result"
    }
   ],
   "source": [
    "game_lag(\"videos\\Prone.MP4\",240)"
   ]
  },
  {
   "cell_type": "code",
   "execution_count": 7,
   "metadata": {},
   "outputs": [
    {
     "name": "stdout",
     "output_type": "stream",
     "text": [
      "Initializing...\n",
      "Getting frames...\n",
      "Total frames:  12109\n",
      "Processing...\n",
      "Action performed at frame:  539\n",
      "Latency:  0.058333333333333334 ms\n",
      "Action performed at frame:  1943\n",
      "Latency:  0.04583333333333333 ms\n",
      "Action performed at frame:  2171\n",
      "Latency:  1.1291666666666667 ms\n",
      "Action performed at frame:  2670\n",
      "Latency:  0.875 ms\n",
      "Action performed at frame:  2878\n",
      "Latency:  1.1708333333333334 ms\n",
      "Action performed at frame:  3321\n",
      "Latency:  1.1833333333333333 ms\n",
      "Action performed at frame:  3497\n",
      "Latency:  1.1833333333333333 ms\n",
      "Action performed at frame:  3900\n",
      "Latency:  1.1375 ms\n",
      "Action performed at frame:  4080\n",
      "Latency:  1.1375 ms\n",
      "Action performed at frame:  4474\n",
      "Latency:  1.1875 ms\n",
      "Action performed at frame:  4628\n",
      "Latency:  1.1875 ms\n",
      "Action performed at frame:  5033\n",
      "Latency:  1.3083333333333333 ms\n",
      "Action performed at frame:  5171\n",
      "Latency:  1.2125 ms\n",
      "Action performed at frame:  5599\n",
      "Latency:  1.2958333333333334 ms\n",
      "Action performed at frame:  5749\n",
      "Latency:  0.041666666666666664 ms\n",
      "Action performed at frame:  6147\n",
      "Latency:  0.19583333333333333 ms\n",
      "Action performed at frame:  6327\n",
      "Latency:  1.125 ms\n",
      "Action performed at frame:  6738\n",
      "Latency:  1.3291666666666666 ms\n",
      "Action performed at frame:  6878\n",
      "Latency:  1.1666666666666667 ms\n",
      "Action performed at frame:  7302\n",
      "Latency:  1.2083333333333333 ms\n",
      "Action performed at frame:  7442\n",
      "Latency:  1.2083333333333333 ms\n",
      "Action performed at frame:  7894\n",
      "Latency:  1.1958333333333333 ms\n",
      "Action performed at frame:  8056\n",
      "Latency:  1.1958333333333333 ms\n",
      "Action performed at frame:  8497\n",
      "Latency:  1.3375 ms\n",
      "Action performed at frame:  8642\n",
      "Latency:  1.1583333333333334 ms\n",
      "Action performed at frame:  9086\n",
      "Latency:  1.1166666666666667 ms\n",
      "Action performed at frame:  9287\n",
      "Latency:  1.1375 ms\n",
      "Action performed at frame:  9698\n",
      "Latency:  1.1208333333333333 ms\n",
      "Action performed at frame:  9896\n",
      "Latency:  0.05 ms\n",
      "Action performed at frame:  10322\n",
      "Latency:  1.3333333333333333 ms\n",
      "Action performed at frame:  10475\n",
      "Latency:  0.20833333333333334 ms\n",
      "Action performed at frame:  10882\n",
      "Latency:  0.058333333333333334 ms\n",
      "Action performed at frame:  11011\n",
      "Latency:  0.0 ms\n",
      "Action performed at frame:  11311\n",
      "Latency:  0.0 ms\n",
      "Action performed at frame:  11563\n",
      "Latency:  1.7833333333333334 ms\n",
      "Average latency:  81.88343558282209 ms\n"
     ]
    },
    {
     "data": {
      "text/plain": [
       "<main.game_lag at 0x1d3a6ed0e80>"
      ]
     },
     "execution_count": 7,
     "metadata": {},
     "output_type": "execute_result"
    }
   ],
   "source": [
    "game_lag(\"videos\\Reload HG.MP4\",240)"
   ]
  },
  {
   "cell_type": "code",
   "execution_count": 8,
   "metadata": {},
   "outputs": [
    {
     "name": "stdout",
     "output_type": "stream",
     "text": [
      "Initializing...\n",
      "Getting frames...\n",
      "Total frames:  11767\n",
      "Processing...\n",
      "Action performed at frame:  498\n",
      "Latency:  0.0375 ms\n",
      "Action performed at frame:  831\n",
      "Latency:  0.05416666666666667 ms\n",
      "Action performed at frame:  1232\n",
      "Latency:  0.05416666666666667 ms\n",
      "Action performed at frame:  1642\n",
      "Latency:  0.04583333333333333 ms\n",
      "Action performed at frame:  2038\n",
      "Latency:  0.020833333333333332 ms\n",
      "Action performed at frame:  2513\n",
      "Latency:  0.05 ms\n",
      "Action performed at frame:  2939\n",
      "Latency:  0.04583333333333333 ms\n",
      "Action performed at frame:  3367\n",
      "Latency:  0.04583333333333333 ms\n",
      "Action performed at frame:  4435\n",
      "Latency:  0.058333333333333334 ms\n",
      "Action performed at frame:  5529\n",
      "Latency:  0.058333333333333334 ms\n",
      "Action performed at frame:  5923\n",
      "Latency:  0.058333333333333334 ms\n",
      "Action performed at frame:  6353\n",
      "Latency:  0.04583333333333333 ms\n",
      "Action performed at frame:  6752\n",
      "Latency:  0.05416666666666667 ms\n",
      "Action performed at frame:  7152\n",
      "Latency:  0.05416666666666667 ms\n",
      "Action performed at frame:  7520\n",
      "Latency:  0.05416666666666667 ms\n",
      "Action performed at frame:  7879\n",
      "Latency:  0.05416666666666667 ms\n",
      "Action performed at frame:  8278\n",
      "Latency:  0.05416666666666667 ms\n",
      "Action performed at frame:  8659\n",
      "Latency:  0.05416666666666667 ms\n",
      "Action performed at frame:  9029\n",
      "Latency:  0.05416666666666667 ms\n",
      "Action performed at frame:  9393\n",
      "Latency:  0.05416666666666667 ms\n",
      "Action performed at frame:  9765\n",
      "Latency:  0.05 ms\n",
      "Action performed at frame:  10154\n",
      "Latency:  0.05416666666666667 ms\n",
      "Action performed at frame:  10545\n",
      "Latency:  0.05416666666666667 ms\n",
      "Action performed at frame:  10895\n",
      "Latency:  0.05416666666666667 ms\n",
      "Average latency:  75.8716577540107 ms\n"
     ]
    },
    {
     "data": {
      "text/plain": [
       "<main.game_lag at 0x1d3a6ed1390>"
      ]
     },
     "execution_count": 8,
     "metadata": {},
     "output_type": "execute_result"
    }
   ],
   "source": [
    "game_lag(\"videos\\Shoot AR.MP4\",240)"
   ]
  },
  {
   "cell_type": "code",
   "execution_count": 10,
   "metadata": {},
   "outputs": [
    {
     "name": "stdout",
     "output_type": "stream",
     "text": [
      "Initializing...\n",
      "Getting frames...\n",
      "Total frames:  6967\n",
      "Processing...\n",
      "Action performed at frame:  427\n",
      "Latency:  0.058333333333333334 ms\n",
      "Action performed at frame:  957\n",
      "Latency:  0.05416666666666667 ms\n",
      "Action performed at frame:  1238\n",
      "Latency:  0.05 ms\n",
      "Action performed at frame:  1717\n",
      "Latency:  0.058333333333333334 ms\n",
      "Action performed at frame:  1934\n",
      "Latency:  0.058333333333333334 ms\n",
      "Action performed at frame:  2120\n",
      "Latency:  0.0625 ms\n",
      "Action performed at frame:  2323\n",
      "Latency:  0.0625 ms\n",
      "Action performed at frame:  2534\n",
      "Latency:  0.0625 ms\n",
      "Action performed at frame:  2743\n",
      "Latency:  0.058333333333333334 ms\n",
      "Action performed at frame:  3295\n",
      "Latency:  0.058333333333333334 ms\n",
      "Action performed at frame:  3507\n",
      "Latency:  0.0625 ms\n",
      "Action performed at frame:  3710\n",
      "Latency:  0.0625 ms\n",
      "Action performed at frame:  3916\n",
      "Latency:  0.0625 ms\n",
      "Action performed at frame:  4120\n",
      "Latency:  0.0625 ms\n",
      "Action performed at frame:  4320\n",
      "Latency:  0.058333333333333334 ms\n",
      "Action performed at frame:  4522\n",
      "Latency:  0.058333333333333334 ms\n",
      "Action performed at frame:  4720\n",
      "Latency:  0.058333333333333334 ms\n",
      "Action performed at frame:  5346\n",
      "Latency:  0.05416666666666667 ms\n",
      "Action performed at frame:  5546\n",
      "Latency:  0.058333333333333334 ms\n",
      "Action performed at frame:  5743\n",
      "Latency:  0.0625 ms\n",
      "Action performed at frame:  5932\n",
      "Latency:  0.0625 ms\n",
      "Action performed at frame:  6112\n",
      "Latency:  0.0625 ms\n",
      "Action performed at frame:  6293\n",
      "Latency:  0.058333333333333334 ms\n",
      "Action performed at frame:  6465\n",
      "Latency:  0.058333333333333334 ms\n",
      "Average latency:  70.23222748815166 ms\n"
     ]
    },
    {
     "data": {
      "text/plain": [
       "<main.game_lag at 0x1d3a6ed1480>"
      ]
     },
     "execution_count": 10,
     "metadata": {},
     "output_type": "execute_result"
    }
   ],
   "source": [
    "game_lag(\"videos\\Shoot HG.MP4\",240)"
   ]
  },
  {
   "cell_type": "code",
   "execution_count": 11,
   "metadata": {},
   "outputs": [
    {
     "name": "stdout",
     "output_type": "stream",
     "text": [
      "Initializing...\n",
      "Getting frames...\n",
      "Total frames:  8078\n",
      "Processing...\n",
      "Action performed at frame:  334\n",
      "Latency:  0.058333333333333334 ms\n",
      "Action performed at frame:  701\n",
      "Latency:  0.058333333333333334 ms\n",
      "Action performed at frame:  1021\n",
      "Latency:  0.05 ms\n",
      "Action performed at frame:  1301\n",
      "Latency:  0.058333333333333334 ms\n",
      "Action performed at frame:  1536\n",
      "Latency:  0.058333333333333334 ms\n",
      "Action performed at frame:  1764\n",
      "Latency:  0.0625 ms\n",
      "Action performed at frame:  1975\n",
      "Latency:  0.0625 ms\n",
      "Action performed at frame:  2184\n",
      "Latency:  0.0625 ms\n",
      "Action performed at frame:  2371\n",
      "Latency:  0.0625 ms\n",
      "Action performed at frame:  2551\n",
      "Latency:  0.0625 ms\n",
      "Action performed at frame:  2730\n",
      "Latency:  0.058333333333333334 ms\n",
      "Action performed at frame:  2904\n",
      "Latency:  0.0625 ms\n",
      "Action performed at frame:  3091\n",
      "Latency:  0.0625 ms\n",
      "Action performed at frame:  3270\n",
      "Latency:  0.07083333333333333 ms\n",
      "Action performed at frame:  3445\n",
      "Latency:  0.07083333333333333 ms\n",
      "Action performed at frame:  3619\n",
      "Latency:  0.07083333333333333 ms\n",
      "Action performed at frame:  3785\n",
      "Latency:  0.075 ms\n",
      "Action performed at frame:  3946\n",
      "Latency:  0.075 ms\n",
      "Action performed at frame:  4230\n",
      "Latency:  0.075 ms\n",
      "Action performed at frame:  4569\n",
      "Latency:  0.0625 ms\n",
      "Action performed at frame:  4868\n",
      "Latency:  0.06666666666666667 ms\n",
      "Action performed at frame:  5144\n",
      "Latency:  0.06666666666666667 ms\n",
      "Action performed at frame:  5428\n",
      "Latency:  0.058333333333333334 ms\n",
      "Action performed at frame:  5686\n",
      "Latency:  0.07083333333333333 ms\n",
      "Action performed at frame:  6009\n",
      "Latency:  0.07083333333333333 ms\n",
      "Action performed at frame:  6311\n",
      "Latency:  0.06666666666666667 ms\n",
      "Action performed at frame:  6606\n",
      "Latency:  0.0625 ms\n",
      "Action performed at frame:  6868\n",
      "Latency:  0.07083333333333333 ms\n",
      "Action performed at frame:  7130\n",
      "Latency:  0.07083333333333333 ms\n",
      "Action performed at frame:  7402\n",
      "Latency:  0.0625 ms\n",
      "Action performed at frame:  7661\n",
      "Latency:  0.0625 ms\n",
      "Average latency:  65.0702479338843 ms\n"
     ]
    },
    {
     "data": {
      "text/plain": [
       "<main.game_lag at 0x1d3b3280400>"
      ]
     },
     "execution_count": 11,
     "metadata": {},
     "output_type": "execute_result"
    }
   ],
   "source": [
    "game_lag(\"videos\\Shoot LMG.MP4\",240)"
   ]
  },
  {
   "cell_type": "code",
   "execution_count": 12,
   "metadata": {},
   "outputs": [
    {
     "name": "stdout",
     "output_type": "stream",
     "text": [
      "Initializing...\n",
      "Getting frames...\n",
      "Total frames:  5708\n",
      "Processing...\n",
      "Action performed at frame:  526\n",
      "Latency:  0.14583333333333334 ms\n",
      "Action performed at frame:  779\n",
      "Latency:  0.14583333333333334 ms\n",
      "Action performed at frame:  1025\n",
      "Latency:  0.15 ms\n",
      "Action performed at frame:  1285\n",
      "Latency:  0.15416666666666667 ms\n",
      "Action performed at frame:  1546\n",
      "Latency:  0.15416666666666667 ms\n",
      "Action performed at frame:  1792\n",
      "Latency:  0.15416666666666667 ms\n",
      "Action performed at frame:  2046\n",
      "Latency:  0.15 ms\n",
      "Action performed at frame:  2317\n",
      "Latency:  0.15 ms\n",
      "Action performed at frame:  2568\n",
      "Latency:  0.15 ms\n",
      "Action performed at frame:  2834\n",
      "Latency:  0.15 ms\n",
      "Action performed at frame:  3069\n",
      "Latency:  0.1375 ms\n",
      "Action performed at frame:  3308\n",
      "Latency:  0.14166666666666666 ms\n",
      "Action performed at frame:  3562\n",
      "Latency:  0.15 ms\n",
      "Action performed at frame:  3816\n",
      "Latency:  0.15833333333333333 ms\n",
      "Action performed at frame:  4069\n",
      "Latency:  0.15833333333333333 ms\n",
      "Action performed at frame:  4300\n",
      "Latency:  0.15 ms\n",
      "Action performed at frame:  4555\n",
      "Latency:  0.15 ms\n",
      "Action performed at frame:  4786\n",
      "Latency:  0.15 ms\n",
      "Action performed at frame:  5031\n",
      "Latency:  0.15 ms\n",
      "Action performed at frame:  5287\n",
      "Latency:  0.1375 ms\n",
      "Average latency:  63.782442748091604 ms\n"
     ]
    },
    {
     "data": {
      "text/plain": [
       "<main.game_lag at 0x1d3b32800d0>"
      ]
     },
     "execution_count": 12,
     "metadata": {},
     "output_type": "execute_result"
    }
   ],
   "source": [
    "game_lag(\"videos\\Walk back.MP4\",240)"
   ]
  },
  {
   "cell_type": "code",
   "execution_count": 14,
   "metadata": {},
   "outputs": [],
   "source": [
    "errors=[79.88888888888889,62.444250871080136,60.62987012987013,69.70703125,81.88343558282209,75.8716577540107,70.23222748815166,65.0702479338843,63.782442748091604]"
   ]
  },
  {
   "cell_type": "code",
   "execution_count": 16,
   "metadata": {},
   "outputs": [
    {
     "name": "stdout",
     "output_type": "stream",
     "text": [
      "70.3269182008261\n"
     ]
    }
   ],
   "source": [
    "import numpy as np\n",
    "#calculating the MSE\n",
    "mse = np.sqrt(np.mean(np.square(errors)))\n",
    "print(mse)  "
   ]
  }
 ],
 "metadata": {
  "kernelspec": {
   "display_name": "Python 3.10.7 64-bit",
   "language": "python",
   "name": "python3"
  },
  "language_info": {
   "codemirror_mode": {
    "name": "ipython",
    "version": 3
   },
   "file_extension": ".py",
   "mimetype": "text/x-python",
   "name": "python",
   "nbconvert_exporter": "python",
   "pygments_lexer": "ipython3",
   "version": "3.10.7"
  },
  "orig_nbformat": 4,
  "vscode": {
   "interpreter": {
    "hash": "a9cff5a362bc38ef45d817ae74b1af54d6a076e3d773891282bce078b815ba34"
   }
  }
 },
 "nbformat": 4,
 "nbformat_minor": 2
}
